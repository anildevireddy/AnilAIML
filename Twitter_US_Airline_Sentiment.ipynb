{
  "nbformat": 4,
  "nbformat_minor": 0,
  "metadata": {
    "colab": {
      "name": "Twitter US Airline Sentiment.ipynb",
      "provenance": [],
      "authorship_tag": "ABX9TyNyig8PoZ8QHMBTNey5E8n3",
      "include_colab_link": true
    },
    "kernelspec": {
      "name": "python3",
      "display_name": "Python 3"
    },
    "language_info": {
      "name": "python"
    }
  },
  "cells": [
    {
      "cell_type": "markdown",
      "metadata": {
        "id": "view-in-github",
        "colab_type": "text"
      },
      "source": [
        "<a href=\"https://colab.research.google.com/github/anildevireddy/AnilAIML/blob/master/Twitter_US_Airline_Sentiment.ipynb\" target=\"_parent\"><img src=\"https://colab.research.google.com/assets/colab-badge.svg\" alt=\"Open In Colab\"/></a>"
      ]
    },
    {
      "cell_type": "code",
      "metadata": {
        "colab": {
          "base_uri": "https://localhost:8080/"
        },
        "id": "te4XH7l4nHG3",
        "outputId": "a19ba51b-89de-4899-ea5c-47c6cf780642"
      },
      "source": [
        "!pip install tensorflow==2.4.0"
      ],
      "execution_count": 1,
      "outputs": [
        {
          "output_type": "stream",
          "text": [
            "Collecting tensorflow==2.4.0\n",
            "\u001b[?25l  Downloading https://files.pythonhosted.org/packages/94/0a/012cc33c643d844433d13001dd1db179e7020b05ddbbd0a9dc86c38a8efa/tensorflow-2.4.0-cp37-cp37m-manylinux2010_x86_64.whl (394.7MB)\n",
            "\u001b[K     |████████████████████████████████| 394.7MB 39kB/s \n",
            "\u001b[?25hRequirement already satisfied: tensorboard~=2.4 in /usr/local/lib/python3.7/dist-packages (from tensorflow==2.4.0) (2.4.1)\n",
            "Requirement already satisfied: google-pasta~=0.2 in /usr/local/lib/python3.7/dist-packages (from tensorflow==2.4.0) (0.2.0)\n",
            "Requirement already satisfied: wheel~=0.35 in /usr/local/lib/python3.7/dist-packages (from tensorflow==2.4.0) (0.36.2)\n",
            "Requirement already satisfied: numpy~=1.19.2 in /usr/local/lib/python3.7/dist-packages (from tensorflow==2.4.0) (1.19.5)\n",
            "Requirement already satisfied: h5py~=2.10.0 in /usr/local/lib/python3.7/dist-packages (from tensorflow==2.4.0) (2.10.0)\n",
            "Requirement already satisfied: opt-einsum~=3.3.0 in /usr/local/lib/python3.7/dist-packages (from tensorflow==2.4.0) (3.3.0)\n",
            "Requirement already satisfied: termcolor~=1.1.0 in /usr/local/lib/python3.7/dist-packages (from tensorflow==2.4.0) (1.1.0)\n",
            "Requirement already satisfied: absl-py~=0.10 in /usr/local/lib/python3.7/dist-packages (from tensorflow==2.4.0) (0.12.0)\n",
            "Requirement already satisfied: astunparse~=1.6.3 in /usr/local/lib/python3.7/dist-packages (from tensorflow==2.4.0) (1.6.3)\n",
            "Requirement already satisfied: wrapt~=1.12.1 in /usr/local/lib/python3.7/dist-packages (from tensorflow==2.4.0) (1.12.1)\n",
            "Requirement already satisfied: gast==0.3.3 in /usr/local/lib/python3.7/dist-packages (from tensorflow==2.4.0) (0.3.3)\n",
            "Requirement already satisfied: grpcio~=1.32.0 in /usr/local/lib/python3.7/dist-packages (from tensorflow==2.4.0) (1.32.0)\n",
            "Requirement already satisfied: flatbuffers~=1.12.0 in /usr/local/lib/python3.7/dist-packages (from tensorflow==2.4.0) (1.12)\n",
            "Requirement already satisfied: typing-extensions~=3.7.4 in /usr/local/lib/python3.7/dist-packages (from tensorflow==2.4.0) (3.7.4.3)\n",
            "Requirement already satisfied: keras-preprocessing~=1.1.2 in /usr/local/lib/python3.7/dist-packages (from tensorflow==2.4.0) (1.1.2)\n",
            "Requirement already satisfied: tensorflow-estimator<2.5.0,>=2.4.0rc0 in /usr/local/lib/python3.7/dist-packages (from tensorflow==2.4.0) (2.4.0)\n",
            "Requirement already satisfied: six~=1.15.0 in /usr/local/lib/python3.7/dist-packages (from tensorflow==2.4.0) (1.15.0)\n",
            "Requirement already satisfied: protobuf>=3.9.2 in /usr/local/lib/python3.7/dist-packages (from tensorflow==2.4.0) (3.12.4)\n",
            "Requirement already satisfied: requests<3,>=2.21.0 in /usr/local/lib/python3.7/dist-packages (from tensorboard~=2.4->tensorflow==2.4.0) (2.23.0)\n",
            "Requirement already satisfied: google-auth-oauthlib<0.5,>=0.4.1 in /usr/local/lib/python3.7/dist-packages (from tensorboard~=2.4->tensorflow==2.4.0) (0.4.3)\n",
            "Requirement already satisfied: tensorboard-plugin-wit>=1.6.0 in /usr/local/lib/python3.7/dist-packages (from tensorboard~=2.4->tensorflow==2.4.0) (1.8.0)\n",
            "Requirement already satisfied: werkzeug>=0.11.15 in /usr/local/lib/python3.7/dist-packages (from tensorboard~=2.4->tensorflow==2.4.0) (1.0.1)\n",
            "Requirement already satisfied: google-auth<2,>=1.6.3 in /usr/local/lib/python3.7/dist-packages (from tensorboard~=2.4->tensorflow==2.4.0) (1.28.0)\n",
            "Requirement already satisfied: markdown>=2.6.8 in /usr/local/lib/python3.7/dist-packages (from tensorboard~=2.4->tensorflow==2.4.0) (3.3.4)\n",
            "Requirement already satisfied: setuptools>=41.0.0 in /usr/local/lib/python3.7/dist-packages (from tensorboard~=2.4->tensorflow==2.4.0) (54.2.0)\n",
            "Requirement already satisfied: idna<3,>=2.5 in /usr/local/lib/python3.7/dist-packages (from requests<3,>=2.21.0->tensorboard~=2.4->tensorflow==2.4.0) (2.10)\n",
            "Requirement already satisfied: chardet<4,>=3.0.2 in /usr/local/lib/python3.7/dist-packages (from requests<3,>=2.21.0->tensorboard~=2.4->tensorflow==2.4.0) (3.0.4)\n",
            "Requirement already satisfied: urllib3!=1.25.0,!=1.25.1,<1.26,>=1.21.1 in /usr/local/lib/python3.7/dist-packages (from requests<3,>=2.21.0->tensorboard~=2.4->tensorflow==2.4.0) (1.24.3)\n",
            "Requirement already satisfied: certifi>=2017.4.17 in /usr/local/lib/python3.7/dist-packages (from requests<3,>=2.21.0->tensorboard~=2.4->tensorflow==2.4.0) (2020.12.5)\n",
            "Requirement already satisfied: requests-oauthlib>=0.7.0 in /usr/local/lib/python3.7/dist-packages (from google-auth-oauthlib<0.5,>=0.4.1->tensorboard~=2.4->tensorflow==2.4.0) (1.3.0)\n",
            "Requirement already satisfied: cachetools<5.0,>=2.0.0 in /usr/local/lib/python3.7/dist-packages (from google-auth<2,>=1.6.3->tensorboard~=2.4->tensorflow==2.4.0) (4.2.1)\n",
            "Requirement already satisfied: pyasn1-modules>=0.2.1 in /usr/local/lib/python3.7/dist-packages (from google-auth<2,>=1.6.3->tensorboard~=2.4->tensorflow==2.4.0) (0.2.8)\n",
            "Requirement already satisfied: rsa<5,>=3.1.4; python_version >= \"3.6\" in /usr/local/lib/python3.7/dist-packages (from google-auth<2,>=1.6.3->tensorboard~=2.4->tensorflow==2.4.0) (4.7.2)\n",
            "Requirement already satisfied: importlib-metadata; python_version < \"3.8\" in /usr/local/lib/python3.7/dist-packages (from markdown>=2.6.8->tensorboard~=2.4->tensorflow==2.4.0) (3.8.1)\n",
            "Requirement already satisfied: oauthlib>=3.0.0 in /usr/local/lib/python3.7/dist-packages (from requests-oauthlib>=0.7.0->google-auth-oauthlib<0.5,>=0.4.1->tensorboard~=2.4->tensorflow==2.4.0) (3.1.0)\n",
            "Requirement already satisfied: pyasn1<0.5.0,>=0.4.6 in /usr/local/lib/python3.7/dist-packages (from pyasn1-modules>=0.2.1->google-auth<2,>=1.6.3->tensorboard~=2.4->tensorflow==2.4.0) (0.4.8)\n",
            "Requirement already satisfied: zipp>=0.5 in /usr/local/lib/python3.7/dist-packages (from importlib-metadata; python_version < \"3.8\"->markdown>=2.6.8->tensorboard~=2.4->tensorflow==2.4.0) (3.4.1)\n",
            "Installing collected packages: tensorflow\n",
            "  Found existing installation: tensorflow 2.4.1\n",
            "    Uninstalling tensorflow-2.4.1:\n",
            "      Successfully uninstalled tensorflow-2.4.1\n",
            "Successfully installed tensorflow-2.4.0\n"
          ],
          "name": "stdout"
        }
      ]
    },
    {
      "cell_type": "code",
      "metadata": {
        "colab": {
          "base_uri": "https://localhost:8080/"
        },
        "id": "Xq6Wm31hqzdm",
        "outputId": "8a7856a7-72cb-4966-de96-6ba85c589237"
      },
      "source": [
        "!pip install contractions\n",
        "\n",
        "import re, string, unicodedata                          # Import Regex, string and unicodedata.\n",
        "import contractions                                     # Import contractions library.\n",
        "from bs4 import BeautifulSoup                           # Import BeautifulSoup.\n",
        "\n",
        "import numpy as np                                      # Import numpy.\n",
        "import pandas as pd                                     # Import pandas.\n",
        "import nltk                                             # Import Natural Language Tool-Kit.\n",
        "\n",
        "nltk.download('stopwords')                              # Download Stopwords.\n",
        "nltk.download('punkt')\n",
        "nltk.download('wordnet')\n",
        "\n",
        "from nltk.corpus import stopwords                       # Import stopwords.\n",
        "from nltk.tokenize import word_tokenize, sent_tokenize  # Import Tokenizer.\n",
        "from nltk.stem.wordnet import WordNetLemmatizer         # Import Lemmatizer."
      ],
      "execution_count": 1,
      "outputs": [
        {
          "output_type": "stream",
          "text": [
            "Collecting contractions\n",
            "  Downloading https://files.pythonhosted.org/packages/0a/04/d5e0bb9f2cef5d15616ebf68087a725c5dbdd71bd422bcfb35d709f98ce7/contractions-0.0.48-py2.py3-none-any.whl\n",
            "Collecting textsearch>=0.0.21\n",
            "  Downloading https://files.pythonhosted.org/packages/d3/fe/021d7d76961b5ceb9f8d022c4138461d83beff36c3938dc424586085e559/textsearch-0.0.21-py2.py3-none-any.whl\n",
            "Collecting anyascii\n",
            "\u001b[?25l  Downloading https://files.pythonhosted.org/packages/09/c7/61370d9e3c349478e89a5554c1e5d9658e1e3116cc4f2528f568909ebdf1/anyascii-0.1.7-py3-none-any.whl (260kB)\n",
            "\u001b[K     |████████████████████████████████| 266kB 5.6MB/s \n",
            "\u001b[?25hCollecting pyahocorasick\n",
            "\u001b[?25l  Downloading https://files.pythonhosted.org/packages/7f/c2/eae730037ae1cbbfaa229d27030d1d5e34a1e41114b21447d1202ae9c220/pyahocorasick-1.4.2.tar.gz (321kB)\n",
            "\u001b[K     |████████████████████████████████| 327kB 7.2MB/s \n",
            "\u001b[?25hBuilding wheels for collected packages: pyahocorasick\n",
            "  Building wheel for pyahocorasick (setup.py) ... \u001b[?25l\u001b[?25hdone\n",
            "  Created wheel for pyahocorasick: filename=pyahocorasick-1.4.2-cp37-cp37m-linux_x86_64.whl size=85385 sha256=99ae6c6dcdb5ee9ff11cff476a1ea9daf7b395b67756502e23692290968502b7\n",
            "  Stored in directory: /root/.cache/pip/wheels/3a/03/34/77e3ece0bba8b86bfac88a79f923b36d805cad63caeba38842\n",
            "Successfully built pyahocorasick\n",
            "Installing collected packages: anyascii, pyahocorasick, textsearch, contractions\n",
            "Successfully installed anyascii-0.1.7 contractions-0.0.48 pyahocorasick-1.4.2 textsearch-0.0.21\n",
            "[nltk_data] Downloading package stopwords to /root/nltk_data...\n",
            "[nltk_data]   Unzipping corpora/stopwords.zip.\n",
            "[nltk_data] Downloading package punkt to /root/nltk_data...\n",
            "[nltk_data]   Unzipping tokenizers/punkt.zip.\n",
            "[nltk_data] Downloading package wordnet to /root/nltk_data...\n",
            "[nltk_data]   Unzipping corpora/wordnet.zip.\n"
          ],
          "name": "stdout"
        }
      ]
    },
    {
      "cell_type": "code",
      "metadata": {
        "id": "gpMwLpGuqOVx"
      },
      "source": [
        "from google.colab import drive"
      ],
      "execution_count": 2,
      "outputs": []
    },
    {
      "cell_type": "code",
      "metadata": {
        "colab": {
          "base_uri": "https://localhost:8080/"
        },
        "id": "rCj_3gF0qQut",
        "outputId": "b4d909fb-3259-4350-b84c-a4a8327ab7e2"
      },
      "source": [
        "drive.mount('/content/drive/')"
      ],
      "execution_count": 3,
      "outputs": [
        {
          "output_type": "stream",
          "text": [
            "Mounted at /content/drive/\n"
          ],
          "name": "stdout"
        }
      ]
    },
    {
      "cell_type": "code",
      "metadata": {
        "id": "8YLnN8kMqYP2"
      },
      "source": [
        "project_path = '/content/drive/My Drive/Colab Notebooks/'"
      ],
      "execution_count": 4,
      "outputs": []
    },
    {
      "cell_type": "code",
      "metadata": {
        "id": "7xhpWYUqqjZw"
      },
      "source": [
        "dataset = pd.read_csv(project_path + 'Tweets.csv')"
      ],
      "execution_count": 5,
      "outputs": []
    },
    {
      "cell_type": "code",
      "metadata": {
        "colab": {
          "base_uri": "https://localhost:8080/"
        },
        "id": "SsLFskkIsr8t",
        "outputId": "3b47f48f-a957-40e3-8227-4246be93b5cd"
      },
      "source": [
        "dataset.shape    "
      ],
      "execution_count": 6,
      "outputs": [
        {
          "output_type": "execute_result",
          "data": {
            "text/plain": [
              "(14640, 15)"
            ]
          },
          "metadata": {
            "tags": []
          },
          "execution_count": 6
        }
      ]
    },
    {
      "cell_type": "code",
      "metadata": {
        "colab": {
          "base_uri": "https://localhost:8080/",
          "height": 445
        },
        "id": "S1yPrqVxs3tH",
        "outputId": "039a15e3-b199-4e40-85f3-99e8c1e6bcd5"
      },
      "source": [
        "dataset.head()"
      ],
      "execution_count": 7,
      "outputs": [
        {
          "output_type": "execute_result",
          "data": {
            "text/html": [
              "<div>\n",
              "<style scoped>\n",
              "    .dataframe tbody tr th:only-of-type {\n",
              "        vertical-align: middle;\n",
              "    }\n",
              "\n",
              "    .dataframe tbody tr th {\n",
              "        vertical-align: top;\n",
              "    }\n",
              "\n",
              "    .dataframe thead th {\n",
              "        text-align: right;\n",
              "    }\n",
              "</style>\n",
              "<table border=\"1\" class=\"dataframe\">\n",
              "  <thead>\n",
              "    <tr style=\"text-align: right;\">\n",
              "      <th></th>\n",
              "      <th>tweet_id</th>\n",
              "      <th>airline_sentiment</th>\n",
              "      <th>airline_sentiment_confidence</th>\n",
              "      <th>negativereason</th>\n",
              "      <th>negativereason_confidence</th>\n",
              "      <th>airline</th>\n",
              "      <th>airline_sentiment_gold</th>\n",
              "      <th>name</th>\n",
              "      <th>negativereason_gold</th>\n",
              "      <th>retweet_count</th>\n",
              "      <th>text</th>\n",
              "      <th>tweet_coord</th>\n",
              "      <th>tweet_created</th>\n",
              "      <th>tweet_location</th>\n",
              "      <th>user_timezone</th>\n",
              "    </tr>\n",
              "  </thead>\n",
              "  <tbody>\n",
              "    <tr>\n",
              "      <th>0</th>\n",
              "      <td>570306133677760513</td>\n",
              "      <td>neutral</td>\n",
              "      <td>1.0000</td>\n",
              "      <td>NaN</td>\n",
              "      <td>NaN</td>\n",
              "      <td>Virgin America</td>\n",
              "      <td>NaN</td>\n",
              "      <td>cairdin</td>\n",
              "      <td>NaN</td>\n",
              "      <td>0</td>\n",
              "      <td>@VirginAmerica What @dhepburn said.</td>\n",
              "      <td>NaN</td>\n",
              "      <td>2015-02-24 11:35:52 -0800</td>\n",
              "      <td>NaN</td>\n",
              "      <td>Eastern Time (US &amp; Canada)</td>\n",
              "    </tr>\n",
              "    <tr>\n",
              "      <th>1</th>\n",
              "      <td>570301130888122368</td>\n",
              "      <td>positive</td>\n",
              "      <td>0.3486</td>\n",
              "      <td>NaN</td>\n",
              "      <td>0.0000</td>\n",
              "      <td>Virgin America</td>\n",
              "      <td>NaN</td>\n",
              "      <td>jnardino</td>\n",
              "      <td>NaN</td>\n",
              "      <td>0</td>\n",
              "      <td>@VirginAmerica plus you've added commercials t...</td>\n",
              "      <td>NaN</td>\n",
              "      <td>2015-02-24 11:15:59 -0800</td>\n",
              "      <td>NaN</td>\n",
              "      <td>Pacific Time (US &amp; Canada)</td>\n",
              "    </tr>\n",
              "    <tr>\n",
              "      <th>2</th>\n",
              "      <td>570301083672813571</td>\n",
              "      <td>neutral</td>\n",
              "      <td>0.6837</td>\n",
              "      <td>NaN</td>\n",
              "      <td>NaN</td>\n",
              "      <td>Virgin America</td>\n",
              "      <td>NaN</td>\n",
              "      <td>yvonnalynn</td>\n",
              "      <td>NaN</td>\n",
              "      <td>0</td>\n",
              "      <td>@VirginAmerica I didn't today... Must mean I n...</td>\n",
              "      <td>NaN</td>\n",
              "      <td>2015-02-24 11:15:48 -0800</td>\n",
              "      <td>Lets Play</td>\n",
              "      <td>Central Time (US &amp; Canada)</td>\n",
              "    </tr>\n",
              "    <tr>\n",
              "      <th>3</th>\n",
              "      <td>570301031407624196</td>\n",
              "      <td>negative</td>\n",
              "      <td>1.0000</td>\n",
              "      <td>Bad Flight</td>\n",
              "      <td>0.7033</td>\n",
              "      <td>Virgin America</td>\n",
              "      <td>NaN</td>\n",
              "      <td>jnardino</td>\n",
              "      <td>NaN</td>\n",
              "      <td>0</td>\n",
              "      <td>@VirginAmerica it's really aggressive to blast...</td>\n",
              "      <td>NaN</td>\n",
              "      <td>2015-02-24 11:15:36 -0800</td>\n",
              "      <td>NaN</td>\n",
              "      <td>Pacific Time (US &amp; Canada)</td>\n",
              "    </tr>\n",
              "    <tr>\n",
              "      <th>4</th>\n",
              "      <td>570300817074462722</td>\n",
              "      <td>negative</td>\n",
              "      <td>1.0000</td>\n",
              "      <td>Can't Tell</td>\n",
              "      <td>1.0000</td>\n",
              "      <td>Virgin America</td>\n",
              "      <td>NaN</td>\n",
              "      <td>jnardino</td>\n",
              "      <td>NaN</td>\n",
              "      <td>0</td>\n",
              "      <td>@VirginAmerica and it's a really big bad thing...</td>\n",
              "      <td>NaN</td>\n",
              "      <td>2015-02-24 11:14:45 -0800</td>\n",
              "      <td>NaN</td>\n",
              "      <td>Pacific Time (US &amp; Canada)</td>\n",
              "    </tr>\n",
              "  </tbody>\n",
              "</table>\n",
              "</div>"
            ],
            "text/plain": [
              "             tweet_id  ...               user_timezone\n",
              "0  570306133677760513  ...  Eastern Time (US & Canada)\n",
              "1  570301130888122368  ...  Pacific Time (US & Canada)\n",
              "2  570301083672813571  ...  Central Time (US & Canada)\n",
              "3  570301031407624196  ...  Pacific Time (US & Canada)\n",
              "4  570300817074462722  ...  Pacific Time (US & Canada)\n",
              "\n",
              "[5 rows x 15 columns]"
            ]
          },
          "metadata": {
            "tags": []
          },
          "execution_count": 7
        }
      ]
    },
    {
      "cell_type": "code",
      "metadata": {
        "id": "AOPn5kUF3GsV"
      },
      "source": [
        "# Only keeping airline_sentiment and Text columns from the data.\n",
        "\n",
        "data = dataset.loc[:14640, ['airline_sentiment', 'text']]"
      ],
      "execution_count": 8,
      "outputs": []
    },
    {
      "cell_type": "code",
      "metadata": {
        "colab": {
          "base_uri": "https://localhost:8080/"
        },
        "id": "9C1c4OTB3zrS",
        "outputId": "cfb4e0a5-85d5-47af-81f7-59ac0513be33"
      },
      "source": [
        "data.shape"
      ],
      "execution_count": 9,
      "outputs": [
        {
          "output_type": "execute_result",
          "data": {
            "text/plain": [
              "(14640, 2)"
            ]
          },
          "metadata": {
            "tags": []
          },
          "execution_count": 9
        }
      ]
    },
    {
      "cell_type": "code",
      "metadata": {
        "colab": {
          "base_uri": "https://localhost:8080/",
          "height": 204
        },
        "id": "LDaAFsB13316",
        "outputId": "025a7108-f304-4fa2-bda1-4e95fac36002"
      },
      "source": [
        "data.head()"
      ],
      "execution_count": 10,
      "outputs": [
        {
          "output_type": "execute_result",
          "data": {
            "text/html": [
              "<div>\n",
              "<style scoped>\n",
              "    .dataframe tbody tr th:only-of-type {\n",
              "        vertical-align: middle;\n",
              "    }\n",
              "\n",
              "    .dataframe tbody tr th {\n",
              "        vertical-align: top;\n",
              "    }\n",
              "\n",
              "    .dataframe thead th {\n",
              "        text-align: right;\n",
              "    }\n",
              "</style>\n",
              "<table border=\"1\" class=\"dataframe\">\n",
              "  <thead>\n",
              "    <tr style=\"text-align: right;\">\n",
              "      <th></th>\n",
              "      <th>airline_sentiment</th>\n",
              "      <th>text</th>\n",
              "    </tr>\n",
              "  </thead>\n",
              "  <tbody>\n",
              "    <tr>\n",
              "      <th>0</th>\n",
              "      <td>neutral</td>\n",
              "      <td>@VirginAmerica What @dhepburn said.</td>\n",
              "    </tr>\n",
              "    <tr>\n",
              "      <th>1</th>\n",
              "      <td>positive</td>\n",
              "      <td>@VirginAmerica plus you've added commercials t...</td>\n",
              "    </tr>\n",
              "    <tr>\n",
              "      <th>2</th>\n",
              "      <td>neutral</td>\n",
              "      <td>@VirginAmerica I didn't today... Must mean I n...</td>\n",
              "    </tr>\n",
              "    <tr>\n",
              "      <th>3</th>\n",
              "      <td>negative</td>\n",
              "      <td>@VirginAmerica it's really aggressive to blast...</td>\n",
              "    </tr>\n",
              "    <tr>\n",
              "      <th>4</th>\n",
              "      <td>negative</td>\n",
              "      <td>@VirginAmerica and it's a really big bad thing...</td>\n",
              "    </tr>\n",
              "  </tbody>\n",
              "</table>\n",
              "</div>"
            ],
            "text/plain": [
              "  airline_sentiment                                               text\n",
              "0           neutral                @VirginAmerica What @dhepburn said.\n",
              "1          positive  @VirginAmerica plus you've added commercials t...\n",
              "2           neutral  @VirginAmerica I didn't today... Must mean I n...\n",
              "3          negative  @VirginAmerica it's really aggressive to blast...\n",
              "4          negative  @VirginAmerica and it's a really big bad thing..."
            ]
          },
          "metadata": {
            "tags": []
          },
          "execution_count": 10
        }
      ]
    },
    {
      "cell_type": "code",
      "metadata": {
        "colab": {
          "base_uri": "https://localhost:8080/"
        },
        "id": "o-G7B00g39WS",
        "outputId": "9f8e04bd-1799-47dc-eca9-1bf8d9123d33"
      },
      "source": [
        "data.isnull().sum(axis=0)                                # Check for NULL values."
      ],
      "execution_count": 11,
      "outputs": [
        {
          "output_type": "execute_result",
          "data": {
            "text/plain": [
              "airline_sentiment    0\n",
              "text                 0\n",
              "dtype: int64"
            ]
          },
          "metadata": {
            "tags": []
          },
          "execution_count": 11
        }
      ]
    },
    {
      "cell_type": "code",
      "metadata": {
        "colab": {
          "base_uri": "https://localhost:8080/",
          "height": 204
        },
        "id": "k1fEfMu_4E2n",
        "outputId": "6cd3a41f-b86d-406b-8756-d2ea32a256ac"
      },
      "source": [
        "pd.set_option('display.max_colwidth', None) # Display full dataframe information (Non-turncated Text column.)\n",
        "\n",
        "data.head()                                 # Check first 5 rows of data"
      ],
      "execution_count": 12,
      "outputs": [
        {
          "output_type": "execute_result",
          "data": {
            "text/html": [
              "<div>\n",
              "<style scoped>\n",
              "    .dataframe tbody tr th:only-of-type {\n",
              "        vertical-align: middle;\n",
              "    }\n",
              "\n",
              "    .dataframe tbody tr th {\n",
              "        vertical-align: top;\n",
              "    }\n",
              "\n",
              "    .dataframe thead th {\n",
              "        text-align: right;\n",
              "    }\n",
              "</style>\n",
              "<table border=\"1\" class=\"dataframe\">\n",
              "  <thead>\n",
              "    <tr style=\"text-align: right;\">\n",
              "      <th></th>\n",
              "      <th>airline_sentiment</th>\n",
              "      <th>text</th>\n",
              "    </tr>\n",
              "  </thead>\n",
              "  <tbody>\n",
              "    <tr>\n",
              "      <th>0</th>\n",
              "      <td>neutral</td>\n",
              "      <td>@VirginAmerica What @dhepburn said.</td>\n",
              "    </tr>\n",
              "    <tr>\n",
              "      <th>1</th>\n",
              "      <td>positive</td>\n",
              "      <td>@VirginAmerica plus you've added commercials to the experience... tacky.</td>\n",
              "    </tr>\n",
              "    <tr>\n",
              "      <th>2</th>\n",
              "      <td>neutral</td>\n",
              "      <td>@VirginAmerica I didn't today... Must mean I need to take another trip!</td>\n",
              "    </tr>\n",
              "    <tr>\n",
              "      <th>3</th>\n",
              "      <td>negative</td>\n",
              "      <td>@VirginAmerica it's really aggressive to blast obnoxious \"entertainment\" in your guests' faces &amp;amp; they have little recourse</td>\n",
              "    </tr>\n",
              "    <tr>\n",
              "      <th>4</th>\n",
              "      <td>negative</td>\n",
              "      <td>@VirginAmerica and it's a really big bad thing about it</td>\n",
              "    </tr>\n",
              "  </tbody>\n",
              "</table>\n",
              "</div>"
            ],
            "text/plain": [
              "  airline_sentiment                                                                                                                            text\n",
              "0           neutral                                                                                             @VirginAmerica What @dhepburn said.\n",
              "1          positive                                                        @VirginAmerica plus you've added commercials to the experience... tacky.\n",
              "2           neutral                                                         @VirginAmerica I didn't today... Must mean I need to take another trip!\n",
              "3          negative  @VirginAmerica it's really aggressive to blast obnoxious \"entertainment\" in your guests' faces &amp; they have little recourse\n",
              "4          negative                                                                         @VirginAmerica and it's a really big bad thing about it"
            ]
          },
          "metadata": {
            "tags": []
          },
          "execution_count": 12
        }
      ]
    },
    {
      "cell_type": "code",
      "metadata": {
        "colab": {
          "base_uri": "https://localhost:8080/"
        },
        "id": "a7nwVfV14Is5",
        "outputId": "83a216c0-e73b-444e-a7d7-d73cfbaa666f"
      },
      "source": [
        "data.shape"
      ],
      "execution_count": 13,
      "outputs": [
        {
          "output_type": "execute_result",
          "data": {
            "text/plain": [
              "(14640, 2)"
            ]
          },
          "metadata": {
            "tags": []
          },
          "execution_count": 13
        }
      ]
    },
    {
      "cell_type": "code",
      "metadata": {
        "colab": {
          "base_uri": "https://localhost:8080/",
          "height": 204
        },
        "id": "KY-iVx2i5eVs",
        "outputId": "de3ec6ae-e58d-47e4-fa03-da8c1886c994"
      },
      "source": [
        "def strip_html(text):\n",
        "    soup = BeautifulSoup(text, \"html.parser\")\n",
        "    return soup.get_text()\n",
        "\n",
        "data['text'] = data['text'].apply(lambda x: strip_html(x))\n",
        "data.head()"
      ],
      "execution_count": 14,
      "outputs": [
        {
          "output_type": "execute_result",
          "data": {
            "text/html": [
              "<div>\n",
              "<style scoped>\n",
              "    .dataframe tbody tr th:only-of-type {\n",
              "        vertical-align: middle;\n",
              "    }\n",
              "\n",
              "    .dataframe tbody tr th {\n",
              "        vertical-align: top;\n",
              "    }\n",
              "\n",
              "    .dataframe thead th {\n",
              "        text-align: right;\n",
              "    }\n",
              "</style>\n",
              "<table border=\"1\" class=\"dataframe\">\n",
              "  <thead>\n",
              "    <tr style=\"text-align: right;\">\n",
              "      <th></th>\n",
              "      <th>airline_sentiment</th>\n",
              "      <th>text</th>\n",
              "    </tr>\n",
              "  </thead>\n",
              "  <tbody>\n",
              "    <tr>\n",
              "      <th>0</th>\n",
              "      <td>neutral</td>\n",
              "      <td>@VirginAmerica What @dhepburn said.</td>\n",
              "    </tr>\n",
              "    <tr>\n",
              "      <th>1</th>\n",
              "      <td>positive</td>\n",
              "      <td>@VirginAmerica plus you've added commercials to the experience... tacky.</td>\n",
              "    </tr>\n",
              "    <tr>\n",
              "      <th>2</th>\n",
              "      <td>neutral</td>\n",
              "      <td>@VirginAmerica I didn't today... Must mean I need to take another trip!</td>\n",
              "    </tr>\n",
              "    <tr>\n",
              "      <th>3</th>\n",
              "      <td>negative</td>\n",
              "      <td>@VirginAmerica it's really aggressive to blast obnoxious \"entertainment\" in your guests' faces &amp; they have little recourse</td>\n",
              "    </tr>\n",
              "    <tr>\n",
              "      <th>4</th>\n",
              "      <td>negative</td>\n",
              "      <td>@VirginAmerica and it's a really big bad thing about it</td>\n",
              "    </tr>\n",
              "  </tbody>\n",
              "</table>\n",
              "</div>"
            ],
            "text/plain": [
              "  airline_sentiment                                                                                                                        text\n",
              "0           neutral                                                                                         @VirginAmerica What @dhepburn said.\n",
              "1          positive                                                    @VirginAmerica plus you've added commercials to the experience... tacky.\n",
              "2           neutral                                                     @VirginAmerica I didn't today... Must mean I need to take another trip!\n",
              "3          negative  @VirginAmerica it's really aggressive to blast obnoxious \"entertainment\" in your guests' faces & they have little recourse\n",
              "4          negative                                                                     @VirginAmerica and it's a really big bad thing about it"
            ]
          },
          "metadata": {
            "tags": []
          },
          "execution_count": 14
        }
      ]
    },
    {
      "cell_type": "code",
      "metadata": {
        "colab": {
          "base_uri": "https://localhost:8080/",
          "height": 204
        },
        "id": "6gJe4iM15kib",
        "outputId": "6e55cb79-1aa5-4aa1-c5dc-3c3a53398159"
      },
      "source": [
        "def replace_contractions(text):\n",
        "    \"\"\"Replace contractions in string of text\"\"\"\n",
        "    return contractions.fix(text)\n",
        "\n",
        "data['text'] = data['text'].apply(lambda x: replace_contractions(x))\n",
        "data.head()"
      ],
      "execution_count": 15,
      "outputs": [
        {
          "output_type": "execute_result",
          "data": {
            "text/html": [
              "<div>\n",
              "<style scoped>\n",
              "    .dataframe tbody tr th:only-of-type {\n",
              "        vertical-align: middle;\n",
              "    }\n",
              "\n",
              "    .dataframe tbody tr th {\n",
              "        vertical-align: top;\n",
              "    }\n",
              "\n",
              "    .dataframe thead th {\n",
              "        text-align: right;\n",
              "    }\n",
              "</style>\n",
              "<table border=\"1\" class=\"dataframe\">\n",
              "  <thead>\n",
              "    <tr style=\"text-align: right;\">\n",
              "      <th></th>\n",
              "      <th>airline_sentiment</th>\n",
              "      <th>text</th>\n",
              "    </tr>\n",
              "  </thead>\n",
              "  <tbody>\n",
              "    <tr>\n",
              "      <th>0</th>\n",
              "      <td>neutral</td>\n",
              "      <td>@VirginAmerica What @dhepburn said.</td>\n",
              "    </tr>\n",
              "    <tr>\n",
              "      <th>1</th>\n",
              "      <td>positive</td>\n",
              "      <td>@VirginAmerica plus you have added commercials to the experience... tacky.</td>\n",
              "    </tr>\n",
              "    <tr>\n",
              "      <th>2</th>\n",
              "      <td>neutral</td>\n",
              "      <td>@VirginAmerica I did not today... Must mean I need to take another trip!</td>\n",
              "    </tr>\n",
              "    <tr>\n",
              "      <th>3</th>\n",
              "      <td>negative</td>\n",
              "      <td>@VirginAmerica it is really aggressive to blast obnoxious \"entertainment\" in your guests' faces &amp; they have little recourse</td>\n",
              "    </tr>\n",
              "    <tr>\n",
              "      <th>4</th>\n",
              "      <td>negative</td>\n",
              "      <td>@VirginAmerica and it is a really big bad thing about it</td>\n",
              "    </tr>\n",
              "  </tbody>\n",
              "</table>\n",
              "</div>"
            ],
            "text/plain": [
              "  airline_sentiment                                                                                                                         text\n",
              "0           neutral                                                                                          @VirginAmerica What @dhepburn said.\n",
              "1          positive                                                   @VirginAmerica plus you have added commercials to the experience... tacky.\n",
              "2           neutral                                                     @VirginAmerica I did not today... Must mean I need to take another trip!\n",
              "3          negative  @VirginAmerica it is really aggressive to blast obnoxious \"entertainment\" in your guests' faces & they have little recourse\n",
              "4          negative                                                                     @VirginAmerica and it is a really big bad thing about it"
            ]
          },
          "metadata": {
            "tags": []
          },
          "execution_count": 15
        }
      ]
    },
    {
      "cell_type": "code",
      "metadata": {
        "colab": {
          "base_uri": "https://localhost:8080/",
          "height": 204
        },
        "id": "f5GGdU865prj",
        "outputId": "479e886f-7c47-4f51-8bbb-9926e2d09e28"
      },
      "source": [
        "def remove_numbers(text):\n",
        "  text = re.sub(r'\\d+', '', text)\n",
        "  return text\n",
        "\n",
        "data['text'] = data['text'].apply(lambda x: remove_numbers(x))\n",
        "data.head()"
      ],
      "execution_count": 16,
      "outputs": [
        {
          "output_type": "execute_result",
          "data": {
            "text/html": [
              "<div>\n",
              "<style scoped>\n",
              "    .dataframe tbody tr th:only-of-type {\n",
              "        vertical-align: middle;\n",
              "    }\n",
              "\n",
              "    .dataframe tbody tr th {\n",
              "        vertical-align: top;\n",
              "    }\n",
              "\n",
              "    .dataframe thead th {\n",
              "        text-align: right;\n",
              "    }\n",
              "</style>\n",
              "<table border=\"1\" class=\"dataframe\">\n",
              "  <thead>\n",
              "    <tr style=\"text-align: right;\">\n",
              "      <th></th>\n",
              "      <th>airline_sentiment</th>\n",
              "      <th>text</th>\n",
              "    </tr>\n",
              "  </thead>\n",
              "  <tbody>\n",
              "    <tr>\n",
              "      <th>0</th>\n",
              "      <td>neutral</td>\n",
              "      <td>@VirginAmerica What @dhepburn said.</td>\n",
              "    </tr>\n",
              "    <tr>\n",
              "      <th>1</th>\n",
              "      <td>positive</td>\n",
              "      <td>@VirginAmerica plus you have added commercials to the experience... tacky.</td>\n",
              "    </tr>\n",
              "    <tr>\n",
              "      <th>2</th>\n",
              "      <td>neutral</td>\n",
              "      <td>@VirginAmerica I did not today... Must mean I need to take another trip!</td>\n",
              "    </tr>\n",
              "    <tr>\n",
              "      <th>3</th>\n",
              "      <td>negative</td>\n",
              "      <td>@VirginAmerica it is really aggressive to blast obnoxious \"entertainment\" in your guests' faces &amp; they have little recourse</td>\n",
              "    </tr>\n",
              "    <tr>\n",
              "      <th>4</th>\n",
              "      <td>negative</td>\n",
              "      <td>@VirginAmerica and it is a really big bad thing about it</td>\n",
              "    </tr>\n",
              "  </tbody>\n",
              "</table>\n",
              "</div>"
            ],
            "text/plain": [
              "  airline_sentiment                                                                                                                         text\n",
              "0           neutral                                                                                          @VirginAmerica What @dhepburn said.\n",
              "1          positive                                                   @VirginAmerica plus you have added commercials to the experience... tacky.\n",
              "2           neutral                                                     @VirginAmerica I did not today... Must mean I need to take another trip!\n",
              "3          negative  @VirginAmerica it is really aggressive to blast obnoxious \"entertainment\" in your guests' faces & they have little recourse\n",
              "4          negative                                                                     @VirginAmerica and it is a really big bad thing about it"
            ]
          },
          "metadata": {
            "tags": []
          },
          "execution_count": 16
        }
      ]
    },
    {
      "cell_type": "code",
      "metadata": {
        "colab": {
          "base_uri": "https://localhost:8080/",
          "height": 204
        },
        "id": "LhhQstMW50tk",
        "outputId": "49337455-2952-4a0c-bbf9-ffcb3a607f5d"
      },
      "source": [
        "data['text'] = data.apply(lambda row: nltk.word_tokenize(row['text']), axis=1) # Tokenization of data\n",
        "data.head()"
      ],
      "execution_count": 17,
      "outputs": [
        {
          "output_type": "execute_result",
          "data": {
            "text/html": [
              "<div>\n",
              "<style scoped>\n",
              "    .dataframe tbody tr th:only-of-type {\n",
              "        vertical-align: middle;\n",
              "    }\n",
              "\n",
              "    .dataframe tbody tr th {\n",
              "        vertical-align: top;\n",
              "    }\n",
              "\n",
              "    .dataframe thead th {\n",
              "        text-align: right;\n",
              "    }\n",
              "</style>\n",
              "<table border=\"1\" class=\"dataframe\">\n",
              "  <thead>\n",
              "    <tr style=\"text-align: right;\">\n",
              "      <th></th>\n",
              "      <th>airline_sentiment</th>\n",
              "      <th>text</th>\n",
              "    </tr>\n",
              "  </thead>\n",
              "  <tbody>\n",
              "    <tr>\n",
              "      <th>0</th>\n",
              "      <td>neutral</td>\n",
              "      <td>[@, VirginAmerica, What, @, dhepburn, said, .]</td>\n",
              "    </tr>\n",
              "    <tr>\n",
              "      <th>1</th>\n",
              "      <td>positive</td>\n",
              "      <td>[@, VirginAmerica, plus, you, have, added, commercials, to, the, experience, ..., tacky, .]</td>\n",
              "    </tr>\n",
              "    <tr>\n",
              "      <th>2</th>\n",
              "      <td>neutral</td>\n",
              "      <td>[@, VirginAmerica, I, did, not, today, ..., Must, mean, I, need, to, take, another, trip, !]</td>\n",
              "    </tr>\n",
              "    <tr>\n",
              "      <th>3</th>\n",
              "      <td>negative</td>\n",
              "      <td>[@, VirginAmerica, it, is, really, aggressive, to, blast, obnoxious, ``, entertainment, '', in, your, guests, ', faces, &amp;, they, have, little, recourse]</td>\n",
              "    </tr>\n",
              "    <tr>\n",
              "      <th>4</th>\n",
              "      <td>negative</td>\n",
              "      <td>[@, VirginAmerica, and, it, is, a, really, big, bad, thing, about, it]</td>\n",
              "    </tr>\n",
              "  </tbody>\n",
              "</table>\n",
              "</div>"
            ],
            "text/plain": [
              "  airline_sentiment                                                                                                                                                      text\n",
              "0           neutral                                                                                                            [@, VirginAmerica, What, @, dhepburn, said, .]\n",
              "1          positive                                                               [@, VirginAmerica, plus, you, have, added, commercials, to, the, experience, ..., tacky, .]\n",
              "2           neutral                                                              [@, VirginAmerica, I, did, not, today, ..., Must, mean, I, need, to, take, another, trip, !]\n",
              "3          negative  [@, VirginAmerica, it, is, really, aggressive, to, blast, obnoxious, ``, entertainment, '', in, your, guests, ', faces, &, they, have, little, recourse]\n",
              "4          negative                                                                                    [@, VirginAmerica, and, it, is, a, really, big, bad, thing, about, it]"
            ]
          },
          "metadata": {
            "tags": []
          },
          "execution_count": 17
        }
      ]
    },
    {
      "cell_type": "code",
      "metadata": {
        "id": "zWZwuXaC-4qy"
      },
      "source": [
        "stopwords = stopwords.words('english')\n",
        "\n",
        "customlist = ['not', \"couldn't\", 'didn', \"didn't\", 'doesn', \"doesn't\", 'hadn', \"hadn't\", 'hasn',\n",
        "        \"hasn't\", 'haven', \"haven't\", 'isn', \"isn't\", 'ma', 'mightn', \"mightn't\", 'mustn',\n",
        "        \"mustn't\", 'needn', \"needn't\", 'shan', \"shan't\", 'shouldn', \"shouldn't\", 'wasn',\n",
        "        \"wasn't\", 'weren', \"weren't\", 'won', \"won't\", 'wouldn', \"wouldn't\"]\n",
        "\n",
        "# Set custom stop-word's list as not, couldn't etc. words matter in Sentiment, so not removing them from original data.\n",
        "\n",
        "stopwords = list(set(stopwords) - set(customlist))                              "
      ],
      "execution_count": 18,
      "outputs": []
    },
    {
      "cell_type": "code",
      "metadata": {
        "colab": {
          "base_uri": "https://localhost:8080/",
          "height": 204
        },
        "id": "mYgAxYRD6Y3L",
        "outputId": "5a215191-ea11-4106-8464-e5e798974070"
      },
      "source": [
        "lemmatizer = WordNetLemmatizer()\n",
        "\n",
        "def remove_non_ascii(words):\n",
        "    \"\"\"Remove non-ASCII characters from list of tokenized words\"\"\"\n",
        "    new_words = []\n",
        "    for word in words:\n",
        "        new_word = unicodedata.normalize('NFKD', word).encode('ascii', 'ignore').decode('utf-8', 'ignore')\n",
        "        new_words.append(new_word)\n",
        "    return new_words\n",
        "\n",
        "def to_lowercase(words):\n",
        "    \"\"\"Convert all characters to lowercase from list of tokenized words\"\"\"\n",
        "    new_words = []\n",
        "    for word in words:\n",
        "        new_word = word.lower()\n",
        "        new_words.append(new_word)\n",
        "    return new_words\n",
        "\n",
        "def remove_punctuation(words):\n",
        "    \"\"\"Remove punctuation from list of tokenized words\"\"\"\n",
        "    new_words = []\n",
        "    for word in words:\n",
        "        new_word = re.sub(r'[^\\w\\s]', '', word)\n",
        "        if new_word != '':\n",
        "            new_words.append(new_word)\n",
        "    return new_words\n",
        "\n",
        "def remove_stopwords(words):\n",
        "    \"\"\"Remove stop words from list of tokenized words\"\"\"\n",
        "    new_words = []\n",
        "    for word in words:\n",
        "        if word not in stopwords:\n",
        "            new_words.append(word)\n",
        "    return new_words\n",
        "\n",
        "def lemmatize_list(words):\n",
        "    new_words = []\n",
        "    for word in words:\n",
        "      new_words.append(lemmatizer.lemmatize(word, pos='v'))\n",
        "    return new_words\n",
        "\n",
        "def normalize(words):\n",
        "    words = remove_non_ascii(words)\n",
        "    words = to_lowercase(words)\n",
        "    words = remove_punctuation(words)\n",
        "    words = remove_stopwords(words)\n",
        "    words = lemmatize_list(words)\n",
        "    return ' '.join(words)\n",
        "\n",
        "data['text'] = data.apply(lambda row: normalize(row['text']), axis=1)\n",
        "data.head()"
      ],
      "execution_count": 19,
      "outputs": [
        {
          "output_type": "execute_result",
          "data": {
            "text/html": [
              "<div>\n",
              "<style scoped>\n",
              "    .dataframe tbody tr th:only-of-type {\n",
              "        vertical-align: middle;\n",
              "    }\n",
              "\n",
              "    .dataframe tbody tr th {\n",
              "        vertical-align: top;\n",
              "    }\n",
              "\n",
              "    .dataframe thead th {\n",
              "        text-align: right;\n",
              "    }\n",
              "</style>\n",
              "<table border=\"1\" class=\"dataframe\">\n",
              "  <thead>\n",
              "    <tr style=\"text-align: right;\">\n",
              "      <th></th>\n",
              "      <th>airline_sentiment</th>\n",
              "      <th>text</th>\n",
              "    </tr>\n",
              "  </thead>\n",
              "  <tbody>\n",
              "    <tr>\n",
              "      <th>0</th>\n",
              "      <td>neutral</td>\n",
              "      <td>virginamerica dhepburn say</td>\n",
              "    </tr>\n",
              "    <tr>\n",
              "      <th>1</th>\n",
              "      <td>positive</td>\n",
              "      <td>virginamerica plus add commercials experience tacky</td>\n",
              "    </tr>\n",
              "    <tr>\n",
              "      <th>2</th>\n",
              "      <td>neutral</td>\n",
              "      <td>virginamerica not today must mean need take another trip</td>\n",
              "    </tr>\n",
              "    <tr>\n",
              "      <th>3</th>\n",
              "      <td>negative</td>\n",
              "      <td>virginamerica really aggressive blast obnoxious entertainment guests face little recourse</td>\n",
              "    </tr>\n",
              "    <tr>\n",
              "      <th>4</th>\n",
              "      <td>negative</td>\n",
              "      <td>virginamerica really big bad thing</td>\n",
              "    </tr>\n",
              "  </tbody>\n",
              "</table>\n",
              "</div>"
            ],
            "text/plain": [
              "  airline_sentiment                                                                                       text\n",
              "0           neutral                                                                 virginamerica dhepburn say\n",
              "1          positive                                        virginamerica plus add commercials experience tacky\n",
              "2           neutral                                   virginamerica not today must mean need take another trip\n",
              "3          negative  virginamerica really aggressive blast obnoxious entertainment guests face little recourse\n",
              "4          negative                                                         virginamerica really big bad thing"
            ]
          },
          "metadata": {
            "tags": []
          },
          "execution_count": 19
        }
      ]
    },
    {
      "cell_type": "code",
      "metadata": {
        "colab": {
          "base_uri": "https://localhost:8080/",
          "height": 204
        },
        "id": "TeH1yNvdKXsG",
        "outputId": "0189d09c-df2e-4213-c7d8-47e124554b0c"
      },
      "source": [
        "sentiment = {'positive': 1,'neutral': 2,'negative': 3}\n",
        "data.airline_sentiment = [sentiment[item] for item in data.airline_sentiment] \n",
        "data.head()"
      ],
      "execution_count": 20,
      "outputs": [
        {
          "output_type": "execute_result",
          "data": {
            "text/html": [
              "<div>\n",
              "<style scoped>\n",
              "    .dataframe tbody tr th:only-of-type {\n",
              "        vertical-align: middle;\n",
              "    }\n",
              "\n",
              "    .dataframe tbody tr th {\n",
              "        vertical-align: top;\n",
              "    }\n",
              "\n",
              "    .dataframe thead th {\n",
              "        text-align: right;\n",
              "    }\n",
              "</style>\n",
              "<table border=\"1\" class=\"dataframe\">\n",
              "  <thead>\n",
              "    <tr style=\"text-align: right;\">\n",
              "      <th></th>\n",
              "      <th>airline_sentiment</th>\n",
              "      <th>text</th>\n",
              "    </tr>\n",
              "  </thead>\n",
              "  <tbody>\n",
              "    <tr>\n",
              "      <th>0</th>\n",
              "      <td>2</td>\n",
              "      <td>virginamerica dhepburn say</td>\n",
              "    </tr>\n",
              "    <tr>\n",
              "      <th>1</th>\n",
              "      <td>1</td>\n",
              "      <td>virginamerica plus add commercials experience tacky</td>\n",
              "    </tr>\n",
              "    <tr>\n",
              "      <th>2</th>\n",
              "      <td>2</td>\n",
              "      <td>virginamerica not today must mean need take another trip</td>\n",
              "    </tr>\n",
              "    <tr>\n",
              "      <th>3</th>\n",
              "      <td>3</td>\n",
              "      <td>virginamerica really aggressive blast obnoxious entertainment guests face little recourse</td>\n",
              "    </tr>\n",
              "    <tr>\n",
              "      <th>4</th>\n",
              "      <td>3</td>\n",
              "      <td>virginamerica really big bad thing</td>\n",
              "    </tr>\n",
              "  </tbody>\n",
              "</table>\n",
              "</div>"
            ],
            "text/plain": [
              "   airline_sentiment                                                                                       text\n",
              "0                  2                                                                 virginamerica dhepburn say\n",
              "1                  1                                        virginamerica plus add commercials experience tacky\n",
              "2                  2                                   virginamerica not today must mean need take another trip\n",
              "3                  3  virginamerica really aggressive blast obnoxious entertainment guests face little recourse\n",
              "4                  3                                                         virginamerica really big bad thing"
            ]
          },
          "metadata": {
            "tags": []
          },
          "execution_count": 20
        }
      ]
    },
    {
      "cell_type": "code",
      "metadata": {
        "id": "9JqH_4JWOurH"
      },
      "source": [
        "# Vectorization (Convert text data to numbers).\n",
        "from sklearn.feature_extraction.text import CountVectorizer\n",
        "\n",
        "vectorizer = CountVectorizer(max_features=1000)                # Keep only 1000 features as number of features will increase the processing time.\n",
        "data_features = vectorizer.fit_transform(data['text'])\n",
        "data_features = data_features.toarray()                        # Convert the data features to array."
      ],
      "execution_count": 21,
      "outputs": []
    },
    {
      "cell_type": "code",
      "metadata": {
        "colab": {
          "base_uri": "https://localhost:8080/"
        },
        "id": "8_9bGhVPdgnU",
        "outputId": "6776fcf7-3e32-4728-fd16-4df181b9cefc"
      },
      "source": [
        "print(vectorizer.vocabulary_)"
      ],
      "execution_count": 22,
      "outputs": [
        {
          "output_type": "stream",
          "text": [
            "{'virginamerica': 941, 'say': 764, 'plus': 666, 'add': 12, 'experience': 314, 'not': 601, 'today': 881, 'must': 582, 'mean': 544, 'need': 587, 'take': 856, 'another': 47, 'trip': 896, 'really': 708, 'entertainment': 293, 'face': 321, 'little': 512, 'big': 105, 'bad': 89, 'thing': 867, 'seriously': 779, 'would': 985, 'pay': 644, 'flight': 353, 'seat': 768, 'play': 663, 'fly': 363, 'yes': 994, 'every': 301, 'time': 877, 'go': 396, 'away': 84, 'miss': 570, 'without': 974, 'https': 440, 'well': 965, 'amaze': 38, 'arrive': 66, 'hour': 433, 'early': 277, 'good': 399, 'know': 480, 'second': 770, 'lead': 491, 'pretty': 679, 'much': 580, 'better': 103, 'great': 400, 'deal': 231, 'already': 35, 'think': 869, 'nd': 586, 'even': 299, 'st': 820, 'yet': 996, 'sky': 797, 'travel': 892, 'http': 439, 'thank': 866, 'schedule': 765, 'still': 831, 'mia': 556, 'excite': 308, 'first': 347, 'cross': 212, 'country': 204, 'lax': 489, 'mco': 542, 'hear': 415, 'nothing': 603, 'things': 868, 'virgin': 940, 'america': 39, 'nyc': 609, 'sfo': 784, 'last': 487, 'week': 961, 'could': 201, 'sit': 794, 'due': 275, 'two': 909, 'either': 281, 'help': 418, 'awesome': 85, 'please': 664, 'want': 949, 'fare': 331, 'may': 540, 'three': 872, 'available': 80, 'select': 774, 'love': 524, 'feel': 338, 'make': 533, 'bos': 115, 'las': 486, 'non': 597, 'stop': 832, 'soon': 809, 'guy': 404, 'mess': 553, 'reserve': 734, 'friends': 381, 'give': 394, 'free': 375, 'internet': 466, 'status': 826, 'match': 538, 'program': 688, 'apply': 61, 'weeks': 963, 'call': 129, 'email': 283, 'response': 738, 'happen': 410, 'ur': 926, 'food': 368, 'options': 625, 'least': 493, 'site': 795, 'able': 1, 'eat': 280, 'anything': 51, 'next': 593, 'hrs': 438, 'fail': 323, 'worry': 981, 'together': 882, 'get': 393, 'cold': 171, 'air': 22, 'ewr': 304, 'middle': 558, 'hi': 421, 'cool': 198, 'birthday': 108, 'enter': 292, 'name': 583, 'book': 114, 'problems': 686, 'hours': 434, 'club': 167, 'post': 673, 'online': 620, 'current': 214, 'leave': 494, 'expensive': 313, 'iad': 444, 'one': 618, 'answer': 48, 'number': 607, 'return': 740, 'phone': 655, 'prefer': 676, 'use': 932, 'option': 624, 'news': 592, 'start': 824, 'end': 288, 'year': 991, 'via': 937, 'nice': 594, 'rt': 751, 'takeoff': 857, 'way': 954, 'best': 102, 'ever': 300, 'do': 267, 'airline': 24, 'around': 64, 'hand': 407, 'support': 845, 'work': 979, 'view': 939, 'sign': 790, 'beyond': 104, 'hey': 420, 'flyer': 364, 'hard': 412, 'account': 8, 'plz': 667, 'win': 970, 'upgrade': 924, 'ticket': 875, 'move': 579, 'new': 590, 'city': 158, 'expire': 315, 'dallas': 222, 'seattle': 769, 'feb': 334, 'reason': 709, 'rock': 745, 'wow': 986, 'mind': 565, 'night': 595, 'oscars': 630, 'suppose': 846, 'minutes': 569, 'ago': 20, 'website': 958, 'show': 788, 'though': 871, 'wish': 973, 'atlanta': 72, 'la': 482, 'february': 335, 'th': 865, 'lga': 500, 'try': 901, 'since': 791, 'page': 634, 'never': 588, 'load': 514, 'thx': 874, 'lady': 484, 'let': 497, 'us': 927, 'sorry': 810, 'dca': 230, 'pm': 668, 'check': 151, 'someone': 806, 'hold': 425, 'earlier': 276, 'tonight': 884, 'congrats': 190, 'award': 83, 'everything': 303, 'fine': 345, 'lose': 521, 'bag': 92, 'change': 147, 'reservation': 732, 'credit': 210, 'card': 134, 'fee': 336, 'customer': 217, 'service': 781, 'team': 860, 'track': 889, 'baggage': 93, 'step': 829, 'game': 391, 'ride': 742, 'plane': 661, 'crew': 211, 'airlines': 25, 'like': 504, 'morning': 578, 'correct': 199, 'watch': 952, 'different': 258, 'media': 546, 'anyway': 52, 'speak': 817, 'human': 442, 'possible': 672, 'traveler': 893, 'southwestair': 815, 'jetblue': 472, 'member': 548, 'inflight': 458, 'interest': 464, 'delay': 235, 'late': 488, 'cancel': 131, 'four': 374, 'plan': 660, 'disappoint': 260, 'share': 785, 'business': 124, 'meet': 547, 'trouble': 897, 'wife': 967, 'bring': 119, 'code': 169, 'life': 502, 'home': 426, 'back': 88, 'yeah': 990, 'point': 669, 'tv': 905, 'video': 938, 'flightled': 357, 'jfk': 473, 'saturday': 761, 'land': 485, 'friendly': 380, 'btw': 121, 'mobile': 572, 'passengers': 641, 'tell': 861, 'class': 160, 'bin': 106, 'find': 344, 'anyone': 50, 'useless': 933, 'direct': 259, 'fll': 360, 'layover': 490, 'vegas': 936, 'buy': 126, 'people': 646, 'customerservice': 219, 'line': 507, 'hang': 409, 'text': 864, 'info': 459, 'weather': 956, 'look': 520, 'lot': 522, 'come': 173, 'phl': 652, 'horrible': 431, 'concern': 185, 'helpful': 419, 'rep': 724, 'right': 744, 'bc': 97, 'run': 755, 'gate': 392, 'wait': 946, 'keep': 476, 'totally': 887, 'folks': 366, 'problem': 685, 'min': 564, 'connect': 191, 'seem': 773, 'long': 518, 'san': 760, 'absolute': 2, 'provide': 691, 'completely': 183, 'month': 576, 'nonstop': 599, 'depart': 242, 'customers': 218, 'process': 687, 'link': 508, 'tsa': 902, 'terrible': 863, 'hotel': 432, 'assistance': 70, 'yesterday': 995, 'longer': 519, 'pls': 665, 'advise': 15, 'drop': 274, 'always': 37, 'frustrate': 383, 'extra': 319, 'luggage': 528, 'might': 560, 'hire': 423, 'world': 980, 'flt': 362, 'midnight': 559, 'monday': 574, 'imagine': 450, 'web': 957, 'staff': 821, 'super': 843, 'premium': 678, 'offer': 610, 'sad': 757, 'question': 696, 'welcome': 964, 'dc': 229, 'understand': 917, 'dm': 265, 'damage': 223, 'policy': 670, 'special': 818, 'alone': 33, 'kid': 477, 'priority': 683, 'board': 113, 'purchase': 693, 'happy': 411, 'definitely': 233, 'dfw': 253, 'friday': 378, 'error': 296, 'contact': 195, 'minute': 568, 'reschedule': 731, 'fix': 349, 'tomorrow': 883, 'unacceptable': 915, 'stick': 830, 'include': 456, 'agent': 18, 'close': 164, 'assist': 69, 'austin': 77, 'route': 749, 'receive': 713, 'reply': 725, 'smh': 801, 'airport': 27, 'checkin': 152, 'desk': 248, 'open': 622, 'daily': 221, 'begin': 99, 'fuck': 384, 'unite': 921, 'fl': 350, 'follow': 367, 'many': 536, 'apologies': 54, 'worse': 982, 'respond': 737, 'spend': 819, 'money': 575, 'strand': 835, 'reimburse': 720, 'choice': 156, 'southwest': 814, 'days': 228, 'confirmation': 189, 'claim': 159, 'notification': 605, 'rebook': 710, 'gold': 398, 'worst': 983, 'stuff': 837, 'wrong': 988, 'issue': 469, 'head': 414, 'americanairlines': 42, 'suck': 839, 'flightlation': 355, 'notice': 604, 'drive': 273, 'boston': 116, 'expect': 312, 'high': 422, 'quick': 697, 'apparently': 58, 'send': 776, 'ny': 608, 'pilot': 658, 'job': 474, 'snow': 803, 'area': 63, 'afternoon': 17, 'row': 750, 'mention': 550, 'mechanical': 545, 'handle': 408, 'drink': 272, 'twitter': 908, 'kill': 478, 'charge': 148, 'refuse': 718, 'refund': 717, 'access': 6, 'iphone': 468, 'passbook': 639, 'break': 118, 'forward': 373, 'cost': 200, 'ugh': 912, 'along': 34, 'put': 695, 'pdx': 645, 'report': 726, 'center': 143, 'bite': 109, 'attendant': 74, 'base': 95, 'something': 807, 'departure': 244, 'sound': 812, 'fun': 386, 'update': 923, 'count': 202, 'continue': 196, 'sort': 811, 'ice': 446, 'coffee': 170, 'passenger': 640, 'trust': 900, 'file': 340, 'destination': 250, 'easy': 279, 'itinerary': 470, 'see': 772, 'become': 98, 'march': 537, 'entire': 294, 'improve': 455, 'request': 729, 'window': 971, 'confirm': 188, 'treat': 895, 'wtf': 989, 'frequent': 377, 'inconvenience': 457, 'full': 385, 'place': 659, 'result': 739, 'usa': 928, 'instead': 463, 'cabin': 128, 'behind': 100, 'suitcase': 841, 'past': 642, 'order': 627, 'husband': 443, 'screen': 766, 'light': 503, 'funny': 388, 'story': 834, 'wonder': 976, 'despite': 249, 'safety': 759, 'day': 227, 'rout': 748, 'newark': 591, 'hope': 429, 'probably': 684, 'save': 762, 'standby': 823, 'absolutely': 3, 'ready': 705, 'manage': 535, 'old': 615, 'battle': 96, 'less': 496, 'half': 406, 'price': 681, 'round': 747, 'sell': 775, 'promise': 689, 'resolution': 735, 'care': 135, 'lovely': 525, 'mileage': 561, 'several': 783, 'americanair': 41, 'glad': 395, 'years': 992, 'earn': 278, 'couple': 205, 'message': 554, 'hop': 428, 'force': 369, 'small': 800, 'carry': 136, 'empty': 287, 'space': 816, 'slow': 799, 'representative': 727, 'solution': 805, 'loyal': 526, 'rd': 701, 'partner': 636, 'turn': 904, 'course': 206, 'family': 327, 'ok': 613, 'receipt': 712, 'ones': 619, 'currently': 215, 'pick': 657, 'tweet': 906, 'rental': 723, 'car': 133, 'cust': 216, 'child': 154, 'chance': 146, 'bank': 94, 'joke': 475, 'also': 36, 'tix': 879, 'yr': 998, 'submit': 838, 'ceo': 144, 'omg': 616, 'pull': 692, 'computer': 184, 'guess': 403, 'announce': 45, 'deserve': 247, 'fyi': 390, 'address': 14, 'exist': 310, 'svc': 849, 'app': 57, 'favorite': 333, 'uk': 913, 'set': 782, 'mexico': 555, 'waste': 951, 'system': 853, 'accept': 4, 'likely': 505, 'learn': 492, 'philadelphia': 650, 'houston': 435, 'finally': 343, 'avgeek': 81, 'forget': 371, 'kind': 479, 'future': 389, 'poor': 671, 'diego': 256, 'excellent': 306, 'additional': 13, 'carryon': 137, 'group': 402, 'room': 746, 'nightmare': 596, 'sure': 847, 'shit': 786, 'bump': 122, 'stay': 827, 'raise': 698, 'man': 534, 'wifi': 968, 'saw': 763, 'part': 635, 'whole': 966, 'short': 787, 'overhead': 632, 'person': 648, 'ask': 67, 'luck': 527, 'accommodate': 7, 'lol': 517, 'others': 631, 'actual': 10, 'travelers': 894, 'storm': 833, 'complete': 182, 'cut': 220, 'philly': 651, 'main': 530, 'months': 577, 'reps': 728, 'regard': 719, 'actually': 11, 'word': 978, 'resolve': 736, 'lack': 483, 'deice': 234, 'fill': 341, 'connections': 193, 'international': 465, 'orlando': 629, 'mins': 567, 'wof': 975, 'serious': 778, 'domestic': 269, 'oh': 612, 'auto': 78, 'transfer': 891, 'security': 771, 'case': 138, 'wonderful': 977, 'voucher': 944, 'mail': 529, 'company': 176, 'maybe': 541, 'pass': 638, 'son': 808, 'miami': 557, 'total': 886, 'explain': 316, 'talk': 858, 'almost': 32, 'ppl': 675, 'daughter': 226, 'flightr': 359, 'anymore': 49, 'platinum': 662, 'badcustomerservice': 90, 'agents': 19, 'rude': 752, 'overnight': 633, 'hr': 437, 'iah': 445, 'dmed': 266, 'detail': 252, 'charlotte': 149, 'ignore': 449, 'touch': 888, 'form': 372, 'vouchers': 945, 'anywhere': 53, 'grind': 401, 'else': 282, 'appreciate': 62, 'tarmac': 859, 'ua': 911, 'rule': 754, 'enough': 291, 'denver': 240, 'train': 890, 'mistake': 571, 'ord': 626, 'avoid': 82, 'supervisor': 844, 'require': 730, 'thru': 873, 'dept': 246, 'will': 969, 'connection': 192, 'upset': 925, 'employees': 286, 'equipment': 295, 'intl': 467, 'mom': 573, 'emergency': 284, 'miles': 563, 'mileageplus': 562, 'complain': 179, 'american': 40, 'coach': 168, 'bird': 107, 'ahead': 21, 'control': 197, 'rather': 700, 'delta': 238, 'attendants': 75, 'unhelpful': 920, 'bother': 117, 'attempt': 73, 'believe': 101, 'stand': 822, 'record': 714, 'read': 704, 'everyone': 302, 'switch': 852, 'aircraft': 23, 'crash': 208, 'winter': 972, 'reach': 703, 'honor': 427, 'pathetic': 643, 'ways': 955, 'baby': 87, 'mine': 566, 'apology': 56, 'finger': 346, 'enjoy': 290, 'zero': 999, 'excuse': 309, 'cause': 141, 'members': 549, 'weekend': 962, 'flightd': 354, 'listen': 510, 'limit': 506, 'appear': 59, 'unhappy': 919, 'complaint': 180, 'awful': 86, 'jet': 471, 'yep': 993, 'matter': 539, 'atl': 71, 'worth': 984, 'airports': 28, 'conf': 187, 'communication': 174, 'far': 330, 'note': 602, 'top': 885, 'unitedairlines': 922, 'kudos': 481, 'flightling': 358, 'usually': 934, 'advisory': 16, 'remember': 722, 'extremely': 320, 'captain': 132, 'real': 706, 'clothe': 165, 'leg': 495, 'chicago': 153, 'lounge': 523, 'okay': 614, 'onto': 621, 'impossible': 453, 'terminal': 862, 'arrival': 65, 'information': 461, 'vacation': 935, 'nope': 600, 'sleep': 798, 'ruin': 753, 'compensation': 178, 'original': 628, 'deliver': 236, 'delivery': 237, 'write': 987, 'employee': 285, 'blame': 110, 'previous': 680, 'feedback': 337, 'tire': 878, 'clt': 166, 'idea': 448, 'neveragain': 589, 'figure': 339, 'screw': 767, 'counter': 203, 'unfortunately': 918, 'premier': 677, 'annoy': 46, 'phoenix': 654, 'front': 382, 'fact': 322, 'walk': 947, 'bwi': 127, 'bs': 120, 'yo': 997, 'consider': 194, 'unable': 914, 'tag': 855, 'impress': 454, 'ridiculous': 743, 'fall': 326, 'fleet': 352, 'serve': 780, 'major': 532, 'situation': 796, 'literally': 511, 'list': 509, 'inside': 462, 'final': 342, 'failure': 324, 'airplane': 26, 'however': 436, 'clear': 162, 'date': 225, 'aa': 0, 'lie': 501, 'catch': 139, 'fair': 325, 'den': 239, 'reservations': 733, 'office': 611, 'damn': 224, 'tho': 870, 'reflight': 716, 'single': 792, 'steal': 828, 'cs': 213, 'tuesday': 903, 'fit': 348, 'deny': 241, 'exactly': 305, 'etc': 298, 'power': 674, 'id': 447, 'multiple': 581, 'angry': 44, 'merger': 552, 'flyers': 365, 'state': 825, 'maintenance': 531, 'personal': 649, 'level': 499, 'sick': 789, 'prompt': 690, 'friend': 379, 'twice': 907, 'choose': 157, 'difference': 257, 'florida': 361, 'allow': 31, 'redeem': 715, 'cc': 142, 'rebooked': 711, 'sunday': 842, 'assign': 68, 'sense': 777, 'hate': 413, 'huge': 441, 'badservice': 91, 'hopefully': 430, 'complaints': 181, 'hell': 416, 'rdu': 702, 'onboard': 617, 'usairways': 930, 'usairwaysfail': 931, 'suggest': 840, 'freeze': 376, 'dollars': 268, 'door': 270, 'engine': 289, 'deplane': 245, 'extend': 318, 'crazy': 209, 'clean': 161, 'print': 682, 'airways': 29, 'operate': 623, 'till': 876, 'fan': 328, 'visit': 942, 'fault': 332, 'nashville': 584, 'surprise': 848, 'bus': 123, 'compensate': 177, 'hit': 424, 'forever': 370, 'attitude': 76, 'disgust': 263, 'cover': 207, 'locate': 515, 'disconnect': 261, 'none': 598, 'act': 9, 'important': 452, 'flightlations': 356, 'per': 647, 'except': 307, 'explanation': 317, 'cheap': 150, 'realize': 707, 'god': 397, 'wall': 948, 'log': 516, 'social': 804, 'runway': 756, 'true': 898, 'live': 513, 'push': 694, 'safe': 758, 'cater': 140, 'busy': 125, 'notify': 606, 'discount': 262, 'funeral': 387, 'condition': 186, 'acceptable': 5, 'wed': 959, 'hello': 417, 'relations': 721, 'sister': 793, 'especially': 297, 'amount': 43, 'decide': 232, 'children': 155, 'callback': 130, 'water': 953, 'tmrw': 880, 'rate': 699, 'merge': 551, 'south': 813, 'bna': 112, 'exit': 311, 'die': 255, 'meal': 543, 'unbelievable': 916, 'party': 637, 'clearly': 163, 'department': 243, 'type': 910, 'volume': 943, 'wednesday': 960, 'snack': 802, 'automate': 79, 'companion': 175, 'haha': 405, 'fantastic': 329, 'sw': 850, 'alert': 30, 'nc': 585, 'systems': 854, 'letter': 498, 'reward': 741, 'inform': 460, 'apologize': 55, 'warm': 950, 'street': 836, 'phx': 656, 'swa': 851, 'phlairport': 653, 'destinationdragons': 251, 'imaginedragons': 451, 'columbus': 172, 'dragons': 271, 'usair': 929, 'blue': 111, 'fleek': 351, 'trueblue': 899, 'appease': 60, 'dividend': 264, 'chairman': 145, 'dfwairport': 254}\n"
          ],
          "name": "stdout"
        }
      ]
    },
    {
      "cell_type": "code",
      "metadata": {
        "colab": {
          "base_uri": "https://localhost:8080/"
        },
        "id": "adeNWgAR8I63",
        "outputId": "59d31a78-bb57-400f-de69-cda816c12fa6"
      },
      "source": [
        "print(data_features.shape)\n",
        "print(type(data_features))\n",
        "print(data_features)"
      ],
      "execution_count": 23,
      "outputs": [
        {
          "output_type": "stream",
          "text": [
            "(14640, 1000)\n",
            "<class 'numpy.ndarray'>\n",
            "[[0 0 0 ... 0 0 0]\n",
            " [0 0 0 ... 0 0 0]\n",
            " [0 0 0 ... 0 0 0]\n",
            " ...\n",
            " [0 0 0 ... 0 0 0]\n",
            " [0 0 0 ... 0 0 0]\n",
            " [0 0 0 ... 0 0 0]]\n"
          ],
          "name": "stdout"
        }
      ]
    },
    {
      "cell_type": "code",
      "metadata": {
        "id": "2EZBBa2o_YCT"
      },
      "source": [
        "labels = data['airline_sentiment']\n",
        "labels = labels.astype('int')"
      ],
      "execution_count": 24,
      "outputs": []
    },
    {
      "cell_type": "code",
      "metadata": {
        "id": "jmCbyohAKqMF"
      },
      "source": [
        "# Split data into training and testing set.\n",
        "\n",
        "from sklearn.model_selection import train_test_split\n",
        "\n",
        "X_train, X_test, y_train, y_test = train_test_split(data_features, labels, test_size=0.3, random_state=42)"
      ],
      "execution_count": 25,
      "outputs": []
    },
    {
      "cell_type": "code",
      "metadata": {
        "colab": {
          "base_uri": "https://localhost:8080/"
        },
        "id": "kuALwqjCKtMD",
        "outputId": "e541eacc-b1f2-422b-bd73-e3240793b3ca"
      },
      "source": [
        "# Using Random Forest to build model for the classification of reviews.\n",
        "# Also calculating the cross validation score.\n",
        "\n",
        "from sklearn.ensemble import RandomForestClassifier\n",
        "from sklearn.model_selection import cross_val_score\n",
        "\n",
        "forest = RandomForestClassifier(n_estimators=10, n_jobs=4)\n",
        "\n",
        "forest = forest.fit(X_train, y_train)\n",
        "\n",
        "print(forest)\n",
        "\n",
        "print(np.mean(cross_val_score(forest, data_features, labels, cv=10)))"
      ],
      "execution_count": 26,
      "outputs": [
        {
          "output_type": "stream",
          "text": [
            "RandomForestClassifier(bootstrap=True, ccp_alpha=0.0, class_weight=None,\n",
            "                       criterion='gini', max_depth=None, max_features='auto',\n",
            "                       max_leaf_nodes=None, max_samples=None,\n",
            "                       min_impurity_decrease=0.0, min_impurity_split=None,\n",
            "                       min_samples_leaf=1, min_samples_split=2,\n",
            "                       min_weight_fraction_leaf=0.0, n_estimators=10, n_jobs=4,\n",
            "                       oob_score=False, random_state=None, verbose=0,\n",
            "                       warm_start=False)\n",
            "0.7123633879781421\n"
          ],
          "name": "stdout"
        }
      ]
    },
    {
      "cell_type": "code",
      "metadata": {
        "id": "RuakPxxsK17c"
      },
      "source": [
        "# Predict the result for test data using the model built above.\n",
        "\n",
        "result = forest.predict(X_test)"
      ],
      "execution_count": 27,
      "outputs": []
    },
    {
      "cell_type": "code",
      "metadata": {
        "colab": {
          "base_uri": "https://localhost:8080/",
          "height": 496
        },
        "id": "kzig1Z6HLBOd",
        "outputId": "a251e442-2b28-4a32-ae5c-af2948e43054"
      },
      "source": [
        "# Print and plot Confusion matirx to get an idea of how the distribution of the prediction is, among all the classes.\n",
        "\n",
        "import matplotlib.pyplot as plt\n",
        "import seaborn as sns\n",
        "from sklearn.metrics import confusion_matrix\n",
        "\n",
        "conf_mat = confusion_matrix(y_test, result)\n",
        "\n",
        "print(conf_mat)\n",
        "\n",
        "df_cm = pd.DataFrame(conf_mat, index = [i for i in \"123\"],\n",
        "                  columns = [i for i in \"123\"])\n",
        "plt.figure(figsize = (10,7))\n",
        "sns.heatmap(df_cm, annot=True, fmt='g')"
      ],
      "execution_count": 28,
      "outputs": [
        {
          "output_type": "stream",
          "text": [
            "[[ 412  122  160]\n",
            " [  91  459  334]\n",
            " [  89  295 2430]]\n"
          ],
          "name": "stdout"
        },
        {
          "output_type": "execute_result",
          "data": {
            "text/plain": [
              "<matplotlib.axes._subplots.AxesSubplot at 0x7ff5c6e017d0>"
            ]
          },
          "metadata": {
            "tags": []
          },
          "execution_count": 28
        },
        {
          "output_type": "display_data",
          "data": {
            "image/png": "[encoded data removed]",
            "text/plain": [
              "<Figure size 720x504 with 2 Axes>"
            ]
          },
          "metadata": {
            "tags": [],
            "needs_background": "light"
          }
        }
      ]
    },
    {
      "cell_type": "code",
      "metadata": {
        "id": "JyWqFm4Bu8gX",
        "colab": {
          "base_uri": "https://localhost:8080/"
        },
        "outputId": "44523792-c829-4d58-86ca-a37de7663e33"
      },
      "source": [
        "# Using TfidfVectorizer to convert text data to numbers.\n",
        "\n",
        "from sklearn.feature_extraction.text import TfidfVectorizer\n",
        "\n",
        "vectorizer = TfidfVectorizer(max_features=1000)\n",
        "data_features = vectorizer.fit_transform(data['text'])\n",
        "\n",
        "data_features = data_features.toarray()\n",
        "\n",
        "data_features.shape"
      ],
      "execution_count": 29,
      "outputs": [
        {
          "output_type": "execute_result",
          "data": {
            "text/plain": [
              "(14640, 1000)"
            ]
          },
          "metadata": {
            "tags": []
          },
          "execution_count": 29
        }
      ]
    },
    {
      "cell_type": "code",
      "metadata": {
        "id": "7223wy58vjJn",
        "colab": {
          "base_uri": "https://localhost:8080/"
        },
        "outputId": "6b88567a-4dbc-46fc-bd4d-d3dab658e859"
      },
      "source": [
        "# Using Random Forest to build model for the classification of reviews.\n",
        "# Also calculating the cross validation score.\n",
        "\n",
        "from sklearn.ensemble import RandomForestClassifier\n",
        "from sklearn.model_selection import cross_val_score\n",
        "\n",
        "import numpy as np\n",
        "\n",
        "forest = RandomForestClassifier(n_estimators=10, n_jobs=4)\n",
        "\n",
        "forest = forest.fit(X_train, y_train)\n",
        "\n",
        "print(forest)\n",
        "\n",
        "print(np.mean(cross_val_score(forest, data_features, labels, cv=10)))"
      ],
      "execution_count": 30,
      "outputs": [
        {
          "output_type": "stream",
          "text": [
            "RandomForestClassifier(bootstrap=True, ccp_alpha=0.0, class_weight=None,\n",
            "                       criterion='gini', max_depth=None, max_features='auto',\n",
            "                       max_leaf_nodes=None, max_samples=None,\n",
            "                       min_impurity_decrease=0.0, min_impurity_split=None,\n",
            "                       min_samples_leaf=1, min_samples_split=2,\n",
            "                       min_weight_fraction_leaf=0.0, n_estimators=10, n_jobs=4,\n",
            "                       oob_score=False, random_state=None, verbose=0,\n",
            "                       warm_start=False)\n",
            "0.7118169398907104\n"
          ],
          "name": "stdout"
        }
      ]
    },
    {
      "cell_type": "code",
      "metadata": {
        "id": "vxMaBRnLvl_A"
      },
      "source": [
        "result = forest.predict(X_test)"
      ],
      "execution_count": 31,
      "outputs": []
    },
    {
      "cell_type": "code",
      "metadata": {
        "id": "qFkEFqU3vnbw",
        "colab": {
          "base_uri": "https://localhost:8080/",
          "height": 445
        },
        "outputId": "9bfd5db1-21d1-4407-f311-64a5c2117be3"
      },
      "source": [
        "import matplotlib.pyplot as plt\n",
        "import seaborn as sns\n",
        "from sklearn.metrics import confusion_matrix\n",
        "\n",
        "conf_mat = confusion_matrix(y_test, result)\n",
        "\n",
        "df_cm = pd.DataFrame(conf_mat, index = [i for i in \"123\"],\n",
        "                  columns = [i for i in \"123\"])\n",
        "plt.figure(figsize = (10,7))\n",
        "sns.heatmap(df_cm, annot=True, fmt='g')"
      ],
      "execution_count": 32,
      "outputs": [
        {
          "output_type": "execute_result",
          "data": {
            "text/plain": [
              "<matplotlib.axes._subplots.AxesSubplot at 0x7ff5c6152c10>"
            ]
          },
          "metadata": {
            "tags": []
          },
          "execution_count": 32
        },
        {
          "output_type": "display_data",
          "data": {
            "image/png": "[encoded data removed]",
            "text/plain": [
              "<Figure size 720x504 with 2 Axes>"
            ]
          },
          "metadata": {
            "tags": [],
            "needs_background": "light"
          }
        }
      ]
    },
    {
      "cell_type": "markdown",
      "metadata": {
        "id": "gaGfsOwbjs_3"
      },
      "source": [
        "Summary:\n",
        "1. The dataset is a collection of twitter feedback for different airlines with sentiment scores as Positive, neutral and negative\n",
        "2. Data has been pre-processed using different techniques for the removal of HTML tags, stop words, numbers, punctuations and then onverted in to lower case before applying the Lemmatization.\n",
        "3. Popular techniques likes CountVectorizer and TfidfVectorizer have been used to encode the Text data.\n",
        "4. After converting the text data to numbers, the classification of the twitter feedback text has been done by using the Random Forest Classifier model.\n",
        "5. The accuracy of the model has been verified by splitting the data in to train and test datasets.\n",
        "6. Pre-processing of the dataset plays a bigger role in getting the accuracy of models by excluding the unwanted segments of the feedback text."
      ]
    }
  ]
}